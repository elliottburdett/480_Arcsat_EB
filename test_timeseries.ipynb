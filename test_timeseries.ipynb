{
 "cells": [
  {
   "cell_type": "markdown",
   "id": "3a01972a-477b-4e90-b48e-54fd1aca1458",
   "metadata": {},
   "source": [
    "Testing timeseries with photometry objects"
   ]
  },
  {
   "cell_type": "code",
   "execution_count": 1,
   "id": "35946ffc-6d6d-4983-98a4-aa35cef03d42",
   "metadata": {},
   "outputs": [],
   "source": [
    "import numpy as np\n",
    "import astropy\n",
    "import matplotlib.pyplot as plt\n",
    "from astropy import units as u\n",
    "from astropy.timeseries import TimeSeries"
   ]
  },
  {
   "cell_type": "code",
   "execution_count": 2,
   "id": "1f9ac3eb-2f74-4f21-a897-8368e8b7395f",
   "metadata": {},
   "outputs": [
    {
     "data": {
      "text/html": [
       "<div><i>TimeSeries length=5</i>\n",
       "<table id=\"table132010286925440\" class=\"table-striped table-bordered table-condensed\">\n",
       "<thead><tr><th>time</th></tr></thead>\n",
       "<thead><tr><th>Time</th></tr></thead>\n",
       "<tr><td>2016-03-22T12:30:31.000</td></tr>\n",
       "<tr><td>2016-03-22T12:30:34.000</td></tr>\n",
       "<tr><td>2016-03-22T12:30:37.000</td></tr>\n",
       "<tr><td>2016-03-22T12:30:40.000</td></tr>\n",
       "<tr><td>2016-03-22T12:30:43.000</td></tr>\n",
       "</table></div>"
      ],
      "text/plain": [
       "<TimeSeries length=5>\n",
       "          time         \n",
       "          Time         \n",
       "-----------------------\n",
       "2016-03-22T12:30:31.000\n",
       "2016-03-22T12:30:34.000\n",
       "2016-03-22T12:30:37.000\n",
       "2016-03-22T12:30:40.000\n",
       "2016-03-22T12:30:43.000"
      ]
     },
     "execution_count": 2,
     "metadata": {},
     "output_type": "execute_result"
    }
   ],
   "source": [
    "ts1 = TimeSeries(time_start='2016-03-22T12:30:31',\n",
    "                 time_delta=3 * u.s,\n",
    "                 n_samples=5)\n",
    "ts1"
   ]
  },
  {
   "cell_type": "markdown",
   "id": "1de380d3-cea2-4083-b3bd-07cfe0cf85d0",
   "metadata": {},
   "source": [
    "Plot flux against time series for a night"
   ]
  },
  {
   "cell_type": "code",
   "execution_count": 1,
   "id": "182512a8-c6cd-4d0e-b678-60f081397d99",
   "metadata": {},
   "outputs": [
    {
     "name": "stderr",
     "output_type": "stream",
     "text": [
      "/opt/conda/lib/python3.12/site-packages/tqdm/auto.py:21: TqdmWarning: IProgress not found. Please update jupyter and ipywidgets. See https://ipywidgets.readthedocs.io/en/stable/user_install.html\n",
      "  from .autonotebook import tqdm as notebook_tqdm\n"
     ]
    }
   ],
   "source": [
    "import os\n",
    "import astropy\n",
    "import numpy as np\n",
    "from astropy.io import fits\n",
    "from matplotlib import pyplot as plt\n",
    "from astropy.visualization import ImageNormalize, LinearStretch, ZScaleInterval\n",
    "from photutils.datasets import make_noise_image\n",
    "from astropy.stats import sigma_clip\n",
    "from scipy.stats import mode\n",
    "from astropy.modeling import models, fitting\n",
    "from astropy.table import Table\n",
    "import photutils\n",
    "from photutils.detection import DAOStarFinder\n",
    "from astropy.stats import sigma_clipped_stats\n",
    "from photutils.profiles import RadialProfile\n",
    "from photutils.aperture import CircularAperture, CircularAnnulus, aperture_photometry, ApertureStats"
   ]
  },
  {
   "cell_type": "code",
   "execution_count": 7,
   "id": "166d8a31-146f-4f6a-8f0c-860680289485",
   "metadata": {},
   "outputs": [
    {
     "ename": "ValueError",
     "evalue": "'r' must be a positive scalar",
     "output_type": "error",
     "traceback": [
      "\u001b[31m---------------------------------------------------------------------------\u001b[39m",
      "\u001b[31mValueError\u001b[39m                                Traceback (most recent call last)",
      "\u001b[36mCell\u001b[39m\u001b[36m \u001b[39m\u001b[32mIn[7]\u001b[39m\u001b[32m, line 14\u001b[39m\n\u001b[32m     11\u001b[39m science, header = fits.getdata(image, header=\u001b[38;5;28;01mTrue\u001b[39;00m) \u001b[38;5;66;03m# read in the science image\u001b[39;00m\n\u001b[32m     12\u001b[39m time = header.get(\u001b[33m'\u001b[39m\u001b[33mDATE-OBS\u001b[39m\u001b[33m'\u001b[39m) \u001b[38;5;66;03m# Get the time from the image\u001b[39;00m\n\u001b[32m---> \u001b[39m\u001b[32m14\u001b[39m aps = [\u001b[43mCircularAperture\u001b[49m\u001b[43m(\u001b[49m\u001b[43mposition\u001b[49m\u001b[43m,\u001b[49m\u001b[43m \u001b[49m\u001b[43mradii\u001b[49m\u001b[43m)\u001b[49m \u001b[38;5;28;01mfor\u001b[39;00m r \u001b[38;5;129;01min\u001b[39;00m radii] \u001b[38;5;66;03m# Make apertures\u001b[39;00m\n\u001b[32m     16\u001b[39m phot_table = aperture_photometry(science, aps) \u001b[38;5;66;03m# The last column of the table is flux\u001b[39;00m\n\u001b[32m     18\u001b[39m annulus = CircularAnnulus((position), r_in=\u001b[32m15\u001b[39m, r_out=\u001b[32m25\u001b[39m) \u001b[38;5;66;03m# make annuli\u001b[39;00m\n",
      "\u001b[36mFile \u001b[39m\u001b[32m/opt/conda/lib/python3.12/site-packages/photutils/aperture/circle.py:152\u001b[39m, in \u001b[36mCircularAperture.__init__\u001b[39m\u001b[34m(self, positions, r)\u001b[39m\n\u001b[32m    150\u001b[39m \u001b[38;5;28;01mdef\u001b[39;00m\u001b[38;5;250m \u001b[39m\u001b[34m__init__\u001b[39m(\u001b[38;5;28mself\u001b[39m, positions, r):\n\u001b[32m    151\u001b[39m     \u001b[38;5;28mself\u001b[39m.positions = positions\n\u001b[32m--> \u001b[39m\u001b[32m152\u001b[39m     \u001b[38;5;28;43mself\u001b[39;49m\u001b[43m.\u001b[49m\u001b[43mr\u001b[49m = r\n",
      "\u001b[36mFile \u001b[39m\u001b[32m/opt/conda/lib/python3.12/site-packages/photutils/aperture/attributes.py:44\u001b[39m, in \u001b[36mApertureAttribute.__set__\u001b[39m\u001b[34m(self, instance, value)\u001b[39m\n\u001b[32m     43\u001b[39m \u001b[38;5;28;01mdef\u001b[39;00m\u001b[38;5;250m \u001b[39m\u001b[34m__set__\u001b[39m(\u001b[38;5;28mself\u001b[39m, instance, value):\n\u001b[32m---> \u001b[39m\u001b[32m44\u001b[39m     \u001b[38;5;28;43mself\u001b[39;49m\u001b[43m.\u001b[49m\u001b[43m_validate\u001b[49m\u001b[43m(\u001b[49m\u001b[43mvalue\u001b[49m\u001b[43m)\u001b[49m\n\u001b[32m     45\u001b[39m     \u001b[38;5;28;01mif\u001b[39;00m \u001b[38;5;129;01mnot\u001b[39;00m \u001b[38;5;28misinstance\u001b[39m(value, (u.Quantity, SkyCoord)):\n\u001b[32m     46\u001b[39m         value = \u001b[38;5;28mfloat\u001b[39m(value)\n",
      "\u001b[36mFile \u001b[39m\u001b[32m/opt/conda/lib/python3.12/site-packages/photutils/aperture/attributes.py:131\u001b[39m, in \u001b[36mPositiveScalar._validate\u001b[39m\u001b[34m(self, value)\u001b[39m\n\u001b[32m    129\u001b[39m \u001b[38;5;28;01mdef\u001b[39;00m\u001b[38;5;250m \u001b[39m\u001b[34m_validate\u001b[39m(\u001b[38;5;28mself\u001b[39m, value):\n\u001b[32m    130\u001b[39m     \u001b[38;5;28;01mif\u001b[39;00m \u001b[38;5;129;01mnot\u001b[39;00m np.isscalar(value) \u001b[38;5;129;01mor\u001b[39;00m value <= \u001b[32m0\u001b[39m:\n\u001b[32m--> \u001b[39m\u001b[32m131\u001b[39m         \u001b[38;5;28;01mraise\u001b[39;00m \u001b[38;5;167;01mValueError\u001b[39;00m(\u001b[33mf\u001b[39m\u001b[33m'\u001b[39m\u001b[38;5;132;01m{\u001b[39;00m\u001b[38;5;28mself\u001b[39m.name\u001b[38;5;132;01m!r}\u001b[39;00m\u001b[33m must be a positive scalar\u001b[39m\u001b[33m'\u001b[39m)\n",
      "\u001b[31mValueError\u001b[39m: 'r' must be a positive scalar"
     ]
    }
   ],
   "source": [
    "\n",
    "\n",
    "times = []\n",
    "fluxes = []\n",
    "\n",
    "for image in image_list: #Use the reduced science images here.\n",
    "    \n",
    "    radii = 15\n",
    "    position = (612,612)\n",
    "    \n",
    "    science, header = fits.getdata(image, header=True) # read in the science image\n",
    "    time = header.get('DATE-OBS') # Get the time from the image\n",
    "   \n",
    "    aps = CircularAperture(position, radii) # Make apertures\n",
    "\n",
    "    phot_table = aperture_photometry(science, aps) # The last column of the table is flux\n",
    "\n",
    "    annulus = CircularAnnulus((position), r_in=15, r_out=25) # make annuli\n",
    "\n",
    "    ap_stats = ApertureStats(science, annulus) # get aperture stats\n",
    "    \n",
    "    background = []\n",
    "    for i in range(0, np.size(ap_stats)):\n",
    "        background.append(ap_stats[i].median)\n",
    "\n",
    "    rows, cols = np.size(radii), np.size(background)\n",
    "    sky_flux = [[0 for _ in range(cols)] for _ in range(rows)]\n",
    "    #print(aps[0].r)\n",
    "    for i in range(0, np.size(background)):\n",
    "        for j in range (0, 1):\n",
    "            aperture_area = aps[j].area_overlap(science)\n",
    "            sky_flux[j][i] = (background[i] * aperture_area[1]) # sky flux (all apertures) , each array is one radius, each has n entries, n stars\n",
    "    # then do background subtraction\n",
    "    \n",
    "    rows, cols = 1, np.size(background)\n",
    "    sky_flux = [[0 for _ in range(cols)] for _ in range(rows)]\n",
    "    #print(aps[0].r)\n",
    "    for i in range(0, np.size(background)):\n",
    "        for j in range (0, np.size(radii)):\n",
    "            aperture_area = aps[j].area_overlap(science)\n",
    "            sky_flux[j][i] = (background[i] * aperture_area[1]) # sky flux (all apertures) , each array is one radius, each has n entries, n stars\n",
    "    # then do background subtraction\n",
    "    for i in range(0, len(radii)):\n",
    "        flux = phot_table[f'aperture_sum_{i}'] - sky_flux[i]\n",
    "        \n",
    "    times.append(time)\n",
    "    fluxes.append(flux[0])"
   ]
  },
  {
   "cell_type": "code",
   "execution_count": 5,
   "id": "ef03036c-1227-4664-9c94-b3db0848a21c",
   "metadata": {},
   "outputs": [
    {
     "data": {
      "text/plain": [
       "'/home/jovyan/arcsat_paper'"
      ]
     },
     "execution_count": 5,
     "metadata": {},
     "output_type": "execute_result"
    }
   ],
   "source": [
    "os.path.abspath(\"\")"
   ]
  },
  {
   "cell_type": "code",
   "execution_count": 25,
   "id": "48e8538e-1227-4c05-945e-36a8967a9424",
   "metadata": {},
   "outputs": [],
   "source": [
    "image_list = ['/home/jovyan/ccd_data/kelt-16-b-S001-R001-C084-r.fit']\n",
    "times = []\n",
    "fluxes = []\n",
    "\n",
    "for image in image_list: # Use the reduced science images here.\n",
    "    \n",
    "    radius = 15 # Single radius value (not a list)\n",
    "    position = (612, 612)\n",
    "    \n",
    "    science, header = fits.getdata(image, header=True) # Read the data\n",
    "    \n",
    "    time = header.get('DATE-OBS') # Get time of observation\n",
    "    \n",
    "    # Make aperture\n",
    "    aperture = CircularAperture(position, r=radius)\n",
    "    phot_table = aperture_photometry(science, aperture)\n",
    "    # Make annulus\n",
    "    annulus = CircularAnnulus(position, r_in=15, r_out=25)\n",
    "    ap_stats = ApertureStats(science, annulus)\n",
    "    \n",
    "    # Get median background\n",
    "    background = ap_stats.median\n",
    "    \n",
    "    # Calculate flux (background * area)\n",
    "    aperture_area = aperture.area_overlap(science)\n",
    "    sky_flux = background * aperture_area\n",
    "    \n",
    "    # Subtract background\n",
    "    flux = phot_table['aperture_sum'] - sky_flux\n",
    "    \n",
    "    times.append(time) #Add to the time table\n",
    "    fluxes.append(flux[0]) #Add to the flux table"
   ]
  },
  {
   "cell_type": "code",
   "execution_count": 30,
   "id": "fd58a5dc-df82-482d-bebb-025046027d06",
   "metadata": {},
   "outputs": [],
   "source": [
    "#print(header)"
   ]
  },
  {
   "cell_type": "code",
   "execution_count": 28,
   "id": "0ef4b245-0240-4314-82c7-74c75363c1c2",
   "metadata": {},
   "outputs": [
    {
     "data": {
      "text/plain": [
       "['2018-08-23T09:00:21']"
      ]
     },
     "execution_count": 28,
     "metadata": {},
     "output_type": "execute_result"
    }
   ],
   "source": [
    "times"
   ]
  },
  {
   "cell_type": "code",
   "execution_count": 29,
   "id": "5ccedd60-ac4e-43f6-bf47-13586883f69e",
   "metadata": {},
   "outputs": [
    {
     "data": {
      "text/plain": [
       "[np.float64(2186.2671158937737)]"
      ]
     },
     "execution_count": 29,
     "metadata": {},
     "output_type": "execute_result"
    }
   ],
   "source": [
    "fluxes"
   ]
  },
  {
   "cell_type": "code",
   "execution_count": 17,
   "id": "6763123a-a755-4ac0-b495-93d6d4624c19",
   "metadata": {},
   "outputs": [
    {
     "data": {
      "text/html": [
       "&lt;Column name=&apos;aperture_sum&apos; dtype=&apos;float64&apos; length=1&gt;\n",
       "<table>\n",
       "<tr><td>0.32636810721896836</td></tr>\n",
       "</table>"
      ],
      "text/plain": [
       "<Column name='aperture_sum' dtype='float64' length=1>\n",
       "0.32636810721896836"
      ]
     },
     "execution_count": 17,
     "metadata": {},
     "output_type": "execute_result"
    }
   ],
   "source": [
    "phot_table['aperture_sum'] - sky_flux"
   ]
  },
  {
   "cell_type": "code",
   "execution_count": null,
   "id": "e18cbf87-c597-4fbc-a889-d62b1461a2ca",
   "metadata": {},
   "outputs": [],
   "source": []
  }
 ],
 "metadata": {
  "kernelspec": {
   "display_name": "Python 3 (ipykernel)",
   "language": "python",
   "name": "python3"
  },
  "language_info": {
   "codemirror_mode": {
    "name": "ipython",
    "version": 3
   },
   "file_extension": ".py",
   "mimetype": "text/x-python",
   "name": "python",
   "nbconvert_exporter": "python",
   "pygments_lexer": "ipython3",
   "version": "3.12.9"
  }
 },
 "nbformat": 4,
 "nbformat_minor": 5
}
